{
  "nbformat": 4,
  "nbformat_minor": 0,
  "metadata": {
    "colab": {
      "provenance": [],
      "gpuType": "T4"
    },
    "kernelspec": {
      "name": "python3",
      "display_name": "Python 3"
    },
    "language_info": {
      "name": "python"
    },
    "accelerator": "GPU"
  },
  "cells": [
    {
      "cell_type": "code",
      "execution_count": null,
      "metadata": {
        "colab": {
          "base_uri": "https://localhost:8080/",
          "height": 515
        },
        "id": "ZIuHBqNYA8Nf",
        "outputId": "e5a3fe0a-9b15-4654-82d2-38a8cee82f1c"
      },
      "outputs": [
        {
          "output_type": "stream",
          "name": "stdout",
          "text": [
            "<class 'pandas.core.frame.DataFrame'>\n",
            "RangeIndex: 53043 entries, 0 to 53042\n",
            "Data columns (total 3 columns):\n",
            " #   Column      Non-Null Count  Dtype \n",
            "---  ------      --------------  ----- \n",
            " 0   Unnamed: 0  53043 non-null  int64 \n",
            " 1   statement   52681 non-null  object\n",
            " 2   status      53043 non-null  object\n",
            "dtypes: int64(1), object(2)\n",
            "memory usage: 1.2+ MB\n"
          ]
        },
        {
          "output_type": "execute_result",
          "data": {
            "text/plain": [
              "status\n",
              "Normal                  16351\n",
              "Depression              15404\n",
              "Suicidal                10653\n",
              "Anxiety                  3888\n",
              "Bipolar                  2877\n",
              "Stress                   2669\n",
              "Personality disorder     1201\n",
              "Name: count, dtype: int64"
            ],
            "text/html": [
              "<div>\n",
              "<style scoped>\n",
              "    .dataframe tbody tr th:only-of-type {\n",
              "        vertical-align: middle;\n",
              "    }\n",
              "\n",
              "    .dataframe tbody tr th {\n",
              "        vertical-align: top;\n",
              "    }\n",
              "\n",
              "    .dataframe thead th {\n",
              "        text-align: right;\n",
              "    }\n",
              "</style>\n",
              "<table border=\"1\" class=\"dataframe\">\n",
              "  <thead>\n",
              "    <tr style=\"text-align: right;\">\n",
              "      <th></th>\n",
              "      <th>count</th>\n",
              "    </tr>\n",
              "    <tr>\n",
              "      <th>status</th>\n",
              "      <th></th>\n",
              "    </tr>\n",
              "  </thead>\n",
              "  <tbody>\n",
              "    <tr>\n",
              "      <th>Normal</th>\n",
              "      <td>16351</td>\n",
              "    </tr>\n",
              "    <tr>\n",
              "      <th>Depression</th>\n",
              "      <td>15404</td>\n",
              "    </tr>\n",
              "    <tr>\n",
              "      <th>Suicidal</th>\n",
              "      <td>10653</td>\n",
              "    </tr>\n",
              "    <tr>\n",
              "      <th>Anxiety</th>\n",
              "      <td>3888</td>\n",
              "    </tr>\n",
              "    <tr>\n",
              "      <th>Bipolar</th>\n",
              "      <td>2877</td>\n",
              "    </tr>\n",
              "    <tr>\n",
              "      <th>Stress</th>\n",
              "      <td>2669</td>\n",
              "    </tr>\n",
              "    <tr>\n",
              "      <th>Personality disorder</th>\n",
              "      <td>1201</td>\n",
              "    </tr>\n",
              "  </tbody>\n",
              "</table>\n",
              "</div><br><label><b>dtype:</b> int64</label>"
            ]
          },
          "metadata": {},
          "execution_count": 41
        }
      ],
      "source": [
        "import pandas as pd\n",
        "df=pd.read_csv(\"Combined Data.csv\")\n",
        "df.info()\n",
        "df['status'].value_counts()"
      ]
    },
    {
      "cell_type": "code",
      "source": [
        "from sklearn.utils.class_weight import compute_class_weight\n",
        "import numpy as np\n",
        "\n",
        "# Example labels\n",
        "labels = ['Normal', 'Depression', 'Suicidal', 'Anxiety', 'Bipolar', 'Stress', 'Personality disorder']\n",
        "class_weights = compute_class_weight('balanced', classes=np.unique(labels), y=labels)\n",
        "\n",
        "# Convert to dictionary format (for scikit-learn or TensorFlow)\n",
        "class_weights_dict = dict(zip(np.unique(labels), class_weights))\n",
        "print(class_weights_dict)"
      ],
      "metadata": {
        "colab": {
          "base_uri": "https://localhost:8080/"
        },
        "id": "cLoCJCTYBLST",
        "outputId": "483f9077-e752-4ff9-8ce7-727fc4703c4d"
      },
      "execution_count": null,
      "outputs": [
        {
          "output_type": "stream",
          "name": "stdout",
          "text": [
            "{np.str_('Anxiety'): np.float64(1.0), np.str_('Bipolar'): np.float64(1.0), np.str_('Depression'): np.float64(1.0), np.str_('Normal'): np.float64(1.0), np.str_('Personality disorder'): np.float64(1.0), np.str_('Stress'): np.float64(1.0), np.str_('Suicidal'): np.float64(1.0)}\n"
          ]
        }
      ]
    },
    {
      "cell_type": "code",
      "source": [
        "import pandas as pd\n",
        "from sklearn.model_selection import train_test_split\n",
        "\n",
        "# Drop rows with missing text\n",
        "df = df.dropna(subset=['statement'])\n",
        "\n",
        "# Map labels to integers\n",
        "label_map = {\n",
        "    'Normal': 0,\n",
        "    'Depression': 1,\n",
        "    'Suicidal': 2,\n",
        "    'Anxiety': 3,\n",
        "    'Bipolar': 4,\n",
        "    'Stress': 5,\n",
        "    'Personality disorder': 6\n",
        "}\n",
        "df['label'] = df['status'].map(label_map)\n",
        "\n",
        "# Split the data into training and validation sets\n",
        "train_df, val_df = train_test_split(df, test_size=0.2, random_state=42)"
      ],
      "metadata": {
        "colab": {
          "base_uri": "https://localhost:8080/"
        },
        "id": "vVvJYurjBPJq",
        "outputId": "689155bb-8ada-4051-cea7-948476ed54a8"
      },
      "execution_count": null,
      "outputs": [
        {
          "output_type": "stream",
          "name": "stderr",
          "text": [
            "<ipython-input-43-6d35c4787df0>:18: SettingWithCopyWarning: \n",
            "A value is trying to be set on a copy of a slice from a DataFrame.\n",
            "Try using .loc[row_indexer,col_indexer] = value instead\n",
            "\n",
            "See the caveats in the documentation: https://pandas.pydata.org/pandas-docs/stable/user_guide/indexing.html#returning-a-view-versus-a-copy\n",
            "  df['label'] = df['status'].map(label_map)\n"
          ]
        }
      ]
    },
    {
      "cell_type": "code",
      "source": [
        "from transformers import BertTokenizer\n",
        "\n",
        "# Load the BERT tokenizer\n",
        "tokenizer = BertTokenizer.from_pretrained('bert-base-uncased')\n",
        "\n",
        "# Tokenize the text\n",
        "def tokenize_data(df):\n",
        "    return tokenizer(\n",
        "        df['statement'].tolist(),\n",
        "        padding=True,\n",
        "        truncation=True,\n",
        "        max_length=128,  # Adjust based on your text length\n",
        "        return_tensors='pt'\n",
        "    )\n",
        "\n",
        "train_encodings = tokenize_data(train_df)\n",
        "val_encodings = tokenize_data(val_df)"
      ],
      "metadata": {
        "id": "6EpDiS1sBRKt"
      },
      "execution_count": null,
      "outputs": []
    },
    {
      "cell_type": "code",
      "source": [
        "import torch\n",
        "\n",
        "class SentimentDataset(torch.utils.data.Dataset):\n",
        "    def __init__(self, encodings, labels):\n",
        "        self.encodings = encodings\n",
        "        self.labels = labels\n",
        "\n",
        "    def __getitem__(self, idx):\n",
        "        item = {key: torch.tensor(val[idx]) for key, val in self.encodings.items()}\n",
        "        item['labels'] = torch.tensor(self.labels[idx])\n",
        "        return item\n",
        "\n",
        "    def __len__(self):\n",
        "        return len(self.labels)\n",
        "\n",
        "#datasets\n",
        "train_dataset = SentimentDataset(train_encodings, train_df['label'].tolist())\n",
        "val_dataset = SentimentDataset(val_encodings, val_df['label'].tolist())"
      ],
      "metadata": {
        "id": "OEiX_P5qBWlY"
      },
      "execution_count": null,
      "outputs": []
    },
    {
      "cell_type": "code",
      "source": [
        "from transformers import BertForSequenceClassification, AutoConfig\n",
        "\n",
        "# Create custom configuration\n",
        "config = AutoConfig.from_pretrained('bert-base-uncased')\n",
        "config.num_labels = len(label_map)\n",
        "config.hidden_dropout_prob = 0.3    # Increased dropout (default is usually 0.1)\n",
        "config.attention_probs_dropout_prob = 0.3\n",
        "config.num_hidden_layers = 8        # Reduced from default 12\n",
        "config.layer_norm_eps = 1e-7        # Slightly stricter normalization\n",
        "config.output_attentions = True     # Enable attention outputs for monitoring\n",
        "\n",
        "# Initialize the model with custom config\n",
        "model = BertForSequenceClassification.from_pretrained(\n",
        "    'bert-base-uncased',\n",
        "    config=config\n",
        ")"
      ],
      "metadata": {
        "colab": {
          "base_uri": "https://localhost:8080/"
        },
        "id": "iZCMB3tkCMJi",
        "outputId": "3c883ea7-8a58-46c0-e835-6c7b2bab7d00"
      },
      "execution_count": null,
      "outputs": [
        {
          "output_type": "stream",
          "name": "stderr",
          "text": [
            "Some weights of BertForSequenceClassification were not initialized from the model checkpoint at bert-base-uncased and are newly initialized: ['classifier.bias', 'classifier.weight']\n",
            "You should probably TRAIN this model on a down-stream task to be able to use it for predictions and inference.\n"
          ]
        }
      ]
    },
    {
      "cell_type": "code",
      "source": [
        "from transformers import Trainer, TrainingArguments\n",
        "from sklearn.utils.class_weight import compute_class_weight\n",
        "import numpy as np\n",
        "import torch\n",
        "from torch import nn\n",
        "\n",
        "#training arguments\n",
        "training_args = TrainingArguments(\n",
        "    output_dir='./results',          # Output directory\n",
        "    eval_strategy=\"epoch\",           # Evaluate every epoch\n",
        "    learning_rate=2e-5,              # Learning rate\n",
        "    per_device_train_batch_size=16,  # Batch size for training\n",
        "    per_device_eval_batch_size=16,   # Batch size for evaluation\n",
        "    num_train_epochs=6,              # Number of epochs\n",
        "    weight_decay=0.01,               # Weight decay\n",
        "    save_strategy=\"epoch\",           # Save model every epoch\n",
        "    logging_dir='./logs',            # Directory for logs\n",
        "    logging_steps=10,                # Log every 10 steps\n",
        "    report_to=\"none\",                # Disable wandb and other logging integrations\n",
        "    disable_tqdm=False,              # Ensure tqdm progress bars are enabled (default)\n",
        "    fp16=True,                       # Enable mixed precision training (optional)\n",
        ")\n",
        "\n",
        "# Compute class weights\n",
        "class_weights = compute_class_weight(\n",
        "    'balanced',\n",
        "    classes=np.unique(train_df['label']),\n",
        "    y=train_df['label']\n",
        ")\n",
        "class_weights = torch.tensor(class_weights, dtype=torch.float32)\n",
        "\n",
        "# Custom Trainer with weighted loss\n",
        "class WeightedTrainer(Trainer):\n",
        "    def compute_loss(self, model, inputs, return_outputs=False, **kwargs):\n",
        "        # Get the device of the model\n",
        "        if isinstance(model, torch.nn.DataParallel):\n",
        "            device = model.module.device  # Access the underlying model's device\n",
        "        else:\n",
        "            device = model.device  # Single-GPU case\n",
        "\n",
        "        # Move inputs to the correct device\n",
        "        inputs = {k: v.to(device) for k, v in inputs.items()}\n",
        "\n",
        "        # Move class weights to the correct device\n",
        "        class_weights_device = class_weights.to(device)\n",
        "\n",
        "        # Get labels and outputs\n",
        "        labels = inputs.get(\"labels\")\n",
        "        outputs = model(**inputs)\n",
        "        logits = outputs.get('logits')\n",
        "\n",
        "        # Compute loss with class weights\n",
        "        loss_fct = nn.CrossEntropyLoss(weight=class_weights_device)\n",
        "        loss = loss_fct(logits.view(-1, self.model.config.num_labels), labels.view(-1))\n",
        "\n",
        "        return (loss, outputs) if return_outputs else loss\n",
        "\n",
        "# Initialize the Trainer\n",
        "trainer = WeightedTrainer(\n",
        "    model=model,\n",
        "    args=training_args,\n",
        "    train_dataset=train_dataset,\n",
        "    eval_dataset=val_dataset,\n",
        ")\n",
        "\n",
        "trainer.train()"
      ],
      "metadata": {
        "colab": {
          "base_uri": "https://localhost:8080/",
          "height": 536
        },
        "id": "eZS9hliiCUv1",
        "outputId": "f923a42b-ea4f-416c-9e22-8cff39056b71"
      },
      "execution_count": null,
      "outputs": [
        {
          "output_type": "stream",
          "name": "stderr",
          "text": [
            "<ipython-input-45-3c0a057fe71d>:9: UserWarning: To copy construct from a tensor, it is recommended to use sourceTensor.clone().detach() or sourceTensor.clone().detach().requires_grad_(True), rather than torch.tensor(sourceTensor).\n",
            "  item = {key: torch.tensor(val[idx]) for key, val in self.encodings.items()}\n"
          ]
        },
        {
          "output_type": "display_data",
          "data": {
            "text/plain": [
              "<IPython.core.display.HTML object>"
            ],
            "text/html": [
              "\n",
              "    <div>\n",
              "      \n",
              "      <progress value='15804' max='15804' style='width:300px; height:20px; vertical-align: middle;'></progress>\n",
              "      [15804/15804 30:39, Epoch 6/6]\n",
              "    </div>\n",
              "    <table border=\"1\" class=\"dataframe\">\n",
              "  <thead>\n",
              " <tr style=\"text-align: left;\">\n",
              "      <th>Epoch</th>\n",
              "      <th>Training Loss</th>\n",
              "      <th>Validation Loss</th>\n",
              "    </tr>\n",
              "  </thead>\n",
              "  <tbody>\n",
              "    <tr>\n",
              "      <td>1</td>\n",
              "      <td>0.521000</td>\n",
              "      <td>0.651001</td>\n",
              "    </tr>\n",
              "    <tr>\n",
              "      <td>2</td>\n",
              "      <td>0.584400</td>\n",
              "      <td>0.584917</td>\n",
              "    </tr>\n",
              "    <tr>\n",
              "      <td>3</td>\n",
              "      <td>0.333800</td>\n",
              "      <td>0.560182</td>\n",
              "    </tr>\n",
              "    <tr>\n",
              "      <td>4</td>\n",
              "      <td>0.338200</td>\n",
              "      <td>0.572299</td>\n",
              "    </tr>\n",
              "    <tr>\n",
              "      <td>5</td>\n",
              "      <td>0.367600</td>\n",
              "      <td>0.589390</td>\n",
              "    </tr>\n",
              "    <tr>\n",
              "      <td>6</td>\n",
              "      <td>0.219700</td>\n",
              "      <td>0.605158</td>\n",
              "    </tr>\n",
              "  </tbody>\n",
              "</table><p>"
            ]
          },
          "metadata": {}
        },
        {
          "output_type": "stream",
          "name": "stderr",
          "text": [
            "<ipython-input-45-3c0a057fe71d>:9: UserWarning: To copy construct from a tensor, it is recommended to use sourceTensor.clone().detach() or sourceTensor.clone().detach().requires_grad_(True), rather than torch.tensor(sourceTensor).\n",
            "  item = {key: torch.tensor(val[idx]) for key, val in self.encodings.items()}\n",
            "<ipython-input-45-3c0a057fe71d>:9: UserWarning: To copy construct from a tensor, it is recommended to use sourceTensor.clone().detach() or sourceTensor.clone().detach().requires_grad_(True), rather than torch.tensor(sourceTensor).\n",
            "  item = {key: torch.tensor(val[idx]) for key, val in self.encodings.items()}\n",
            "<ipython-input-45-3c0a057fe71d>:9: UserWarning: To copy construct from a tensor, it is recommended to use sourceTensor.clone().detach() or sourceTensor.clone().detach().requires_grad_(True), rather than torch.tensor(sourceTensor).\n",
            "  item = {key: torch.tensor(val[idx]) for key, val in self.encodings.items()}\n",
            "<ipython-input-45-3c0a057fe71d>:9: UserWarning: To copy construct from a tensor, it is recommended to use sourceTensor.clone().detach() or sourceTensor.clone().detach().requires_grad_(True), rather than torch.tensor(sourceTensor).\n",
            "  item = {key: torch.tensor(val[idx]) for key, val in self.encodings.items()}\n",
            "<ipython-input-45-3c0a057fe71d>:9: UserWarning: To copy construct from a tensor, it is recommended to use sourceTensor.clone().detach() or sourceTensor.clone().detach().requires_grad_(True), rather than torch.tensor(sourceTensor).\n",
            "  item = {key: torch.tensor(val[idx]) for key, val in self.encodings.items()}\n"
          ]
        },
        {
          "output_type": "execute_result",
          "data": {
            "text/plain": [
              "TrainOutput(global_step=15804, training_loss=0.5476155952844883, metrics={'train_runtime': 1839.879, 'train_samples_per_second': 137.435, 'train_steps_per_second': 8.59, 'total_flos': 1.1127728904781824e+16, 'train_loss': 0.5476155952844883, 'epoch': 6.0})"
            ]
          },
          "metadata": {},
          "execution_count": 47
        }
      ]
    },
    {
      "cell_type": "code",
      "source": [
        "# Evaluate the model\n",
        "results = trainer.evaluate()\n",
        "print(results)"
      ],
      "metadata": {
        "colab": {
          "base_uri": "https://localhost:8080/",
          "height": 111
        },
        "id": "Zx0bhxYWUfng",
        "outputId": "e72bb1f2-b229-49bf-a9d3-b758f4392e2f"
      },
      "execution_count": null,
      "outputs": [
        {
          "output_type": "stream",
          "name": "stderr",
          "text": [
            "<ipython-input-45-3c0a057fe71d>:9: UserWarning: To copy construct from a tensor, it is recommended to use sourceTensor.clone().detach() or sourceTensor.clone().detach().requires_grad_(True), rather than torch.tensor(sourceTensor).\n",
            "  item = {key: torch.tensor(val[idx]) for key, val in self.encodings.items()}\n"
          ]
        },
        {
          "output_type": "display_data",
          "data": {
            "text/plain": [
              "<IPython.core.display.HTML object>"
            ],
            "text/html": [
              "\n",
              "    <div>\n",
              "      \n",
              "      <progress value='659' max='659' style='width:300px; height:20px; vertical-align: middle;'></progress>\n",
              "      [659/659 00:14]\n",
              "    </div>\n",
              "    "
            ]
          },
          "metadata": {}
        },
        {
          "output_type": "stream",
          "name": "stdout",
          "text": [
            "{'eval_loss': 0.605157732963562, 'eval_runtime': 14.9491, 'eval_samples_per_second': 704.857, 'eval_steps_per_second': 44.083, 'epoch': 6.0}\n"
          ]
        }
      ]
    },
    {
      "cell_type": "code",
      "source": [
        "model.save_pretrained('./fine-tuned-bert')\n",
        "tokenizer.save_pretrained('./fine-tuned-bert')"
      ],
      "metadata": {
        "colab": {
          "base_uri": "https://localhost:8080/"
        },
        "id": "54G4QdCBVkma",
        "outputId": "ed774f5f-a0cc-497c-9614-2bddf01b863a"
      },
      "execution_count": null,
      "outputs": [
        {
          "output_type": "execute_result",
          "data": {
            "text/plain": [
              "('./fine-tuned-bert/tokenizer_config.json',\n",
              " './fine-tuned-bert/special_tokens_map.json',\n",
              " './fine-tuned-bert/vocab.txt',\n",
              " './fine-tuned-bert/added_tokens.json')"
            ]
          },
          "metadata": {},
          "execution_count": 49
        }
      ]
    },
    {
      "cell_type": "code",
      "source": [
        "import torch\n",
        "from transformers import BertForSequenceClassification, BertTokenizer\n",
        "import pandas as pd\n",
        "import torch.nn.functional as F\n",
        "\n",
        "def load_model_and_tokenizer(model_path):\n",
        "    \"\"\"Load the saved model and tokenizer\"\"\"\n",
        "    model = BertForSequenceClassification.from_pretrained(model_path)\n",
        "    tokenizer = BertTokenizer.from_pretrained(model_path)\n",
        "    return model, tokenizer\n",
        "\n",
        "def predict_mental_health(text, model, tokenizer):\n",
        "    \"\"\"Make prediction for a single text input\"\"\"\n",
        "    # Prepare the text\n",
        "    inputs = tokenizer(\n",
        "        text,\n",
        "        padding=True,\n",
        "        truncation=True,\n",
        "        max_length=128,\n",
        "        return_tensors=\"pt\"\n",
        "    )\n",
        "\n",
        "    # Make prediction\n",
        "    model.eval()\n",
        "    with torch.no_grad():\n",
        "        outputs = model(**inputs)\n",
        "        probabilities = F.softmax(outputs.logits, dim=-1)\n",
        "        predicted_class = torch.argmax(probabilities, dim=-1).item()\n",
        "\n",
        "    return predicted_class, probabilities[0]\n",
        "\n",
        "def get_label_name(label_id):\n",
        "    \"\"\"Convert numerical label to string\"\"\"\n",
        "    label_map = {\n",
        "        0: 'Normal',\n",
        "        1: 'Depression',\n",
        "        2: 'Suicidal',\n",
        "        3: 'Anxiety',\n",
        "        4: 'Bipolar',\n",
        "        5: 'Stress',\n",
        "        6: 'Personality disorder'\n",
        "    }\n",
        "    return label_map.get(label_id, 'Unknown')\n",
        "\n",
        "# Load model and tokenizer\n",
        "print(\"Loading model and tokenizer...\")\n",
        "model, tokenizer = load_model_and_tokenizer('./fine-tuned-bert')\n",
        "print(\"Model and tokenizer loaded successfully!\")"
      ],
      "metadata": {
        "colab": {
          "base_uri": "https://localhost:8080/"
        },
        "id": "C77qQ72iVmBF",
        "outputId": "5979c2e8-e7b1-4673-ecc4-7e699877312f"
      },
      "execution_count": null,
      "outputs": [
        {
          "output_type": "stream",
          "name": "stdout",
          "text": [
            "Loading model and tokenizer...\n",
            "Model and tokenizer loaded successfully!\n"
          ]
        }
      ]
    },
    {
      "cell_type": "code",
      "source": [
        "import torch\n",
        "from sklearn.metrics import confusion_matrix\n",
        "import seaborn as sns\n",
        "import matplotlib.pyplot as plt\n",
        "import numpy as np\n",
        "\n",
        "# Function to predict on a batch of validation data and return the true labels and predicted labels\n",
        "def predict_on_validation(model, val_dataset, batch_size=16):\n",
        "    model.eval()\n",
        "    all_preds = []\n",
        "    all_labels = []\n",
        "\n",
        "    # Create a DataLoader for the validation dataset\n",
        "    val_loader = torch.utils.data.DataLoader(val_dataset, batch_size=batch_size)\n",
        "\n",
        "    # Disable gradient computation during inference\n",
        "    with torch.no_grad():\n",
        "        for batch in val_loader:\n",
        "            # Move input tensors to the correct device (GPU or CPU)\n",
        "            inputs = {key: val.to(model.device) for key, val in batch.items()}\n",
        "            labels = inputs['labels']\n",
        "\n",
        "            # Get model predictions\n",
        "            outputs = model(**inputs)\n",
        "            logits = outputs.logits\n",
        "\n",
        "            # Get predicted class\n",
        "            preds = torch.argmax(logits, dim=-1)\n",
        "\n",
        "            # Collect the predictions and true labels\n",
        "            all_preds.extend(preds.cpu().numpy())\n",
        "            all_labels.extend(labels.cpu().numpy())\n",
        "\n",
        "    return np.array(all_labels), np.array(all_preds)\n",
        "\n",
        "# Get true labels and predicted labels on the validation set\n",
        "true_labels, predicted_labels = predict_on_validation(model, val_dataset)"
      ],
      "metadata": {
        "id": "R_1vNZGm20c1"
      },
      "execution_count": null,
      "outputs": []
    },
    {
      "cell_type": "code",
      "source": [
        "# Generate confusion matrix\n",
        "cm = confusion_matrix(true_labels, predicted_labels)\n",
        "\n",
        "label_map = ['Normal', 'Depression', 'Suicidal', 'Anxiety', 'Bipolar', 'Stress', 'Personality \\n disorder']\n",
        "\n",
        "# Plot confusion matrix using seaborn\n",
        "plt.figure(figsize=(8, 6))\n",
        "sns.heatmap(cm, annot=True, fmt='d', cmap='Blues', xticklabels=label_map, yticklabels=label_map)\n",
        "plt.xlabel('Predicted Label')\n",
        "plt.ylabel('True Label')\n",
        "plt.title('Confusion Matrix')\n",
        "plt.show()"
      ],
      "metadata": {
        "id": "Ix2dvS4wkVik",
        "colab": {
          "base_uri": "https://localhost:8080/",
          "height": 580
        },
        "outputId": "b26c3dbf-989e-478e-f54e-b2065c7bc35f"
      },
      "execution_count": null,
      "outputs": [
        {
          "output_type": "display_data",
          "data": {
            "text/plain": [
              "<Figure size 800x600 with 2 Axes>"
            ],
            "image/png": "[encoded data removed]"
          },
          "metadata": {}
        }
      ]
    },
    {
      "cell_type": "code",
      "source": [
        "from sklearn.metrics import accuracy_score\n",
        "\n",
        "# Calculate accuracy\n",
        "accuracy = accuracy_score(true_labels, predicted_labels)\n",
        "print(f'Accuracy: {accuracy * 100:.2f}%')"
      ],
      "metadata": {
        "id": "99rUDw3ei9J7",
        "colab": {
          "base_uri": "https://localhost:8080/"
        },
        "outputId": "ea8b8611-6621-40cc-c918-4a622f20d3a1"
      },
      "execution_count": null,
      "outputs": [
        {
          "output_type": "stream",
          "name": "stdout",
          "text": [
            "Accuracy: 80.74%\n"
          ]
        }
      ]
    },
    {
      "cell_type": "code",
      "source": [
        "test_sentences = [\n",
        "    {\n",
        "        \"text\": \"I feel fantastic today!\",\n",
        "        \"expected\": \"Normal\"\n",
        "    },\n",
        "    {\n",
        "        \"text\": \"I'm struggling with anxiety and depression.\",\n",
        "        \"expected\": \"Depression\"\n",
        "    },\n",
        "    {\n",
        "        \"text\": \"Life is going well, and I'm feeling positive.\",\n",
        "        \"expected\": \"Normal\"\n",
        "    },\n",
        "    {\n",
        "        \"text\": \"I'm overwhelmed and don't know how to cope.\",\n",
        "        \"expected\": \"Stress\"\n",
        "    },\n",
        "    {\n",
        "        \"text\": \"Everything seems so hopeless right now.\",\n",
        "        \"expected\": \"Depression\"\n",
        "    },\n",
        "    {\n",
        "        \"text\": \"Work is overwhelming me. I can't sleep and my mind won't stop racing.\",\n",
        "        \"expected\": \"Stress\"\n",
        "    },\n",
        "    {\n",
        "        \"text\": \"Nobody understands me. My emotions are intense and I push everyone away.\",\n",
        "        \"expected\": \"Personality disorder\"\n",
        "    },\n",
        "    {\n",
        "        \"text\": \"Just finished a yoga session and feeling very peaceful and centered.\",\n",
        "        \"expected\": \"Normal\"\n",
        "    },\n",
        "    {\n",
        "        \"text\": \"My thoughts are spiraling and I can't focus on anything. Everything feels threatening.\",\n",
        "        \"expected\": \"Anxiety\"\n",
        "    },\n",
        "    {\n",
        "        \"text\": \"I feel empty inside. Nothing matters anymore.\",\n",
        "        \"expected\": \"Depression\"\n",
        "    }\n",
        "]"
      ],
      "metadata": {
        "id": "AMPxczvhVoVp"
      },
      "execution_count": null,
      "outputs": []
    },
    {
      "cell_type": "code",
      "source": [
        "print(\"\\nAnalyzing sentences...\\n\")\n",
        "print(\"=\" * 100)\n",
        "print(f\"{'Text':<60} {'Expected':<15} {'Predicted':<15} {'Confidence'}\")\n",
        "print(\"=\" * 100)\n",
        "\n",
        "for test_case in test_sentences:\n",
        "    text = test_case[\"text\"]\n",
        "    expected = test_case[\"expected\"]\n",
        "\n",
        "    # Get prediction\n",
        "    predicted_class, probabilities = predict_mental_health(text, model, tokenizer)\n",
        "    predicted_label = get_label_name(predicted_class)\n",
        "    confidence = probabilities[predicted_class].item() * 100\n",
        "\n",
        "    # Print results with truncated text if too long\n",
        "    truncated_text = text[:57] + \"...\" if len(text) > 60 else text.ljust(60)\n",
        "    print(f\"{truncated_text} {expected:<15} {predicted_label:<15} {confidence:.1f}%\")\n",
        "\n",
        "print(\"=\" * 100)\n",
        "\n",
        "# Print detailed analysis of a few examples with high confidence\n",
        "print(\"\\nDetailed Analysis of High Confidence Predictions:\")\n",
        "print(\"-\" * 50)\n",
        "\n",
        "for test_case in test_sentences[:3]:  # Analyze first 3 cases\n",
        "    text = test_case[\"text\"]\n",
        "    predicted_class, probabilities = predict_mental_health(text, model, tokenizer)\n",
        "\n",
        "    print(f\"\\nText: {text}\")\n",
        "    print(\"Probability Distribution:\")\n",
        "    for i, prob in enumerate(probabilities):\n",
        "        label = get_label_name(i)\n",
        "        probability = prob.item() * 100\n",
        "        print(f\"{label:<20}: {probability:.1f}%\")\n",
        "    print(\"-\" * 50)"
      ],
      "metadata": {
        "id": "OZA8K0HTfHoJ",
        "colab": {
          "base_uri": "https://localhost:8080/"
        },
        "outputId": "6753a701-e7d8-4ace-a8e9-ca69f168a626"
      },
      "execution_count": null,
      "outputs": [
        {
          "output_type": "stream",
          "name": "stdout",
          "text": [
            "\n",
            "Analyzing sentences...\n",
            "\n",
            "====================================================================================================\n",
            "Text                                                         Expected        Predicted       Confidence\n",
            "====================================================================================================\n",
            "I feel fantastic today!                                      Normal          Normal          99.7%\n",
            "I'm struggling with anxiety and depression.                  Depression      Anxiety         98.9%\n",
            "Life is going well, and I'm feeling positive.                Normal          Normal          97.5%\n",
            "I'm overwhelmed and don't know how to cope.                  Stress          Normal          82.5%\n",
            "Everything seems so hopeless right now.                      Depression      Suicidal        45.2%\n",
            "Work is overwhelming me. I can't sleep and my mind won't ... Stress          Stress          83.5%\n",
            "Nobody understands me. My emotions are intense and I push... Personality disorder Depression      75.9%\n",
            "Just finished a yoga session and feeling very peaceful an... Normal          Normal          97.5%\n",
            "My thoughts are spiraling and I can't focus on anything. ... Anxiety         Stress          98.7%\n",
            "I feel empty inside. Nothing matters anymore.                Depression      Depression      53.2%\n",
            "====================================================================================================\n",
            "\n",
            "Detailed Analysis of High Confidence Predictions:\n",
            "--------------------------------------------------\n",
            "\n",
            "Text: I feel fantastic today!\n",
            "Probability Distribution:\n",
            "Normal              : 99.7%\n",
            "Depression          : 0.1%\n",
            "Suicidal            : 0.1%\n",
            "Anxiety             : 0.1%\n",
            "Bipolar             : 0.0%\n",
            "Stress              : 0.0%\n",
            "Personality disorder: 0.0%\n",
            "--------------------------------------------------\n",
            "\n",
            "Text: I'm struggling with anxiety and depression.\n",
            "Probability Distribution:\n",
            "Normal              : 0.2%\n",
            "Depression          : 0.0%\n",
            "Suicidal            : 0.0%\n",
            "Anxiety             : 98.9%\n",
            "Bipolar             : 0.0%\n",
            "Stress              : 0.7%\n",
            "Personality disorder: 0.1%\n",
            "--------------------------------------------------\n",
            "\n",
            "Text: Life is going well, and I'm feeling positive.\n",
            "Probability Distribution:\n",
            "Normal              : 97.5%\n",
            "Depression          : 0.6%\n",
            "Suicidal            : 0.3%\n",
            "Anxiety             : 0.4%\n",
            "Bipolar             : 0.8%\n",
            "Stress              : 0.1%\n",
            "Personality disorder: 0.3%\n",
            "--------------------------------------------------\n"
          ]
        }
      ]
    }
  ]
}