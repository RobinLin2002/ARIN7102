{
 "cells": [
  {
   "cell_type": "code",
   "execution_count": 7,
   "metadata": {},
   "outputs": [],
   "source": [
    "import json\n",
    "\n",
    "def format_data(filepath):\n",
    "    data_list = []\n",
    "    with open(filepath, \"r\", encoding=\"utf-8\") as f:\n",
    "        for line in f:\n",
    "            new_obj = {}\n",
    "            obj = json.loads(line.strip(\"\\n\"))\n",
    "            new_obj[\"instruction\"] = \"，\".join(obj[\"questions\"][0])\n",
    "            new_obj[\"input\"] = \"\"\n",
    "\n",
    "            new_obj[\"output\"] = \",\".join(obj[\"answers\"])\n",
    "            data_list.append(new_obj)\n",
    "    return data_list\n",
    "\n",
    " \n",
    "\n",
    "def write_json(data_list, filename):\n",
    "    writer = open(filename, \"w\", encoding=\"utf-8\")\n",
    "    json.dump(data_list, writer, ensure_ascii=False, indent=4)\n",
    "    \n",
    "\n",
    "data_path = \"/home/Data1/ziyue/dataset/Huatuo/\"\n",
    "\n",
    "new_data_path = \"/home/Data1/ziyue/dataset\"\n",
    "\n",
    "filename = \"train_data.json\"\n",
    "\n",
    "filepath = data_path + filename\n",
    "data_list = format_data(filepath)\n",
    "\n",
    "write_json(data_list, new_data_path + filename)\n",
    " \n",
    "\n",
    "filename = \"test_data.json\"\n",
    "\n",
    "filepath = data_path + filename\n",
    "\n",
    "\n",
    "data_list = format_data(filepath)\n",
    "\n",
    "write_json(data_list, new_data_path + filename)\n",
    " \n",
    "\n",
    "filename = \"validation_data.json\"\n",
    "\n",
    "filepath = data_path + filename\n",
    "data_list = format_data(filepath)\n",
    "\n",
    "write_json(data_list, new_data_path + filename)\n"
   ]
  }
 ],
 "metadata": {
  "kernelspec": {
   "display_name": "medglm",
   "language": "python",
   "name": "python3"
  },
  "language_info": {
   "codemirror_mode": {
    "name": "ipython",
    "version": 3
   },
   "file_extension": ".py",
   "mimetype": "text/x-python",
   "name": "python",
   "nbconvert_exporter": "python",
   "pygments_lexer": "ipython3",
   "version": "3.9.21"
  }
 },
 "nbformat": 4,
 "nbformat_minor": 2
}
